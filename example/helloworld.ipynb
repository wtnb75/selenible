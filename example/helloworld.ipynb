version https://git-lfs.github.com/spec/v1
oid sha256:ae70335f275d5989285338c2ad860817dccf2977ff8d922661eeeee792a5b8b7
size 192509
